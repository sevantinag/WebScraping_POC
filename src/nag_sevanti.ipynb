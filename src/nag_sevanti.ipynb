{
 "cells": [
  {
   "cell_type": "code",
   "execution_count": 3,
   "metadata": {
    "scrolled": true
   },
   "outputs": [
    {
     "data": {
      "image/png": "[encoded data removed]",
      "text/plain": [
       "<Figure size 720x720 with 1 Axes>"
      ]
     },
     "metadata": {
      "needs_background": "light"
     },
     "output_type": "display_data"
    }
   ],
   "source": [
    "import os\n",
    "import sys\n",
    "sys.path.append(os.path.abspath(\"NAG_SEVANTI_hw5.py\"))\n",
    "\n",
    "from NAG_SEVANTI_hw5 import *\n",
    "\n",
    "grab_data_by_scraping_and_api_requests()\n",
    "stored_data = grab_data_from_downloaded_raw_files()\n",
    "plot_graph(stored_data)\n",
    "\n",
    "# 1).  loads the data (and provides comments about what that means/how that works\n",
    "\n",
    "# 2).  Runs your analysis functions (please include your python code as a module; no need to put all the functions in the notebook itself!), and annotates what you're analysis is doing\n",
    "\n",
    "# 3).  Outputs whatever it is you're outputting (a graph, chart, table, etc.) and explains what the output mean\n"
   ]
  },
  {
   "cell_type": "code",
   "execution_count": null,
   "metadata": {},
   "outputs": [],
   "source": []
  },
  {
   "cell_type": "markdown",
   "metadata": {},
   "source": [
    "1.\t**The names of team member(s)**:\n",
    "   \n",
    "   Sevanti Nag\n",
    "    "
   ]
  },
  {
   "cell_type": "markdown",
   "metadata": {},
   "source": [
    "    \n",
    "2. **How to run your code (what command-line switches they are, what happens when you invoke the code, etc.)**\n",
    "\n",
    "This project requires the following packages:\n",
    "1. Download Chromedriver from:\n",
    "   - For Chrome Versions 78: “https://chromedriver.storage.googleapis.com/index.html?path=78.0.3904.105/“\n",
    "   - For Chrome Versions 79: \"https://chromedriver.storage.googleapis.com/index.html?path=79.0.3945.36/\"\n",
    "  and add the exe file to the project folder (Replace if existing)\n",
    "2. Change the absolute path of the 'chromedriver' in 'statista_data_breach.py' LINE NO: 31\n",
    "3. Run the 'chromedriver' manually if on Mac, as Mac OS does not run the exe automatically due to security settings, unless it has been run once manually\n",
    "4. Install requests\n",
    "5. Install BeautifulSoup\n",
    "6. Install Selenium\n",
    "7. Install Tweepy for Twitter API usage\n",
    "8. Install Matplotlib for plotting graph\n",
    "\n",
    "\n",
    "To  successfully run nag_sevanti.ipynb file, on command prompt navigate to Anaconda folder (\"user/usr_name/Anacona\") and install the following:\n",
    "\n",
    "1. Install Selenium\n",
    "2. Install requests\n",
    "3. Install BeautifulSoup\n",
    "4. Install Tweepy for Twitter API usage\n",
    "5. Install Matplotlib for plotting graph\n",
    "\n",
    "To run this project, make sure the above packages are installed, and then simply clone the repo at https://github.com/sevantinag/inf510_project.git and execute this notebook\n"
   ]
  },
  {
   "cell_type": "markdown",
   "metadata": {},
   "source": [
    "3. **Any major “gotchas” to the code (i.e. things that don’t work, go slowly, could be improved, etc.)**\n",
    "\n",
    "The code takes a while to scrape data from Statista's website, as it uses Selenium to open the URL in a browser. The twitter searches could be improved, so that only the breached company name and it's corresponding exposed data could be recorded.\n"
   ]
  },
  {
   "cell_type": "markdown",
   "metadata": {},
   "source": [
    "4. **Anything else you feel is relevant to the grading of your project your project.**\n",
    "\n",
    "On running the analysis function on Jupyter Notebook, it takes a while to load as the scraping functions are being called"
   ]
  },
  {
   "cell_type": "markdown",
   "metadata": {},
   "source": [
    "5. **What did you set out to study?  (i.e. what was the point of your project?  This should be close to your Milestone 1 assignment, but if you switched gears or changed things, note it here.)**\n",
    "\n",
    "I initially had set out to study the data breaches across various industry and analyze if the cost of breaches correlated with the number of breaches. Unfortunately, my primary data source website'https://privacyrights.org/data-breaches' used to contain list of data breach segregated by industry. The list has been removed as the developers are making enhancements to the site.  Due to this, the goal had to be modfied. The modified goal was to observe the trend in the data breaches in the previous and current years. \n",
    "\n",
    "The aforementioned URL has been replaced by 'https://haveibeenpwned.com/PwnedWebsites' which lists all the company portals that were breached and their breach date and the number of data records that were exposed in the breach. As online data keeps growing exponentially by the years, and hackers growing smarter and finding ways to breach systems, I set out to analyze if the number of data breaches have also increased.\n"
   ]
  },
  {
   "cell_type": "markdown",
   "metadata": {},
   "source": [
    "6. **What did you Discover/what were your conclusions (i.e. what were your findings?  Were your original assumptions confirmed, etc.?)**\n",
    "\n",
    "I discovered that the number of breaches in 2019 was significantly higher as compared to 2018 and previous years. With more number of people storing their information online, each breach can expose more number of data.\n"
   ]
  },
  {
   "cell_type": "markdown",
   "metadata": {},
   "source": [
    "7. **What difficulties did you have in completing the project?**\n",
    "\n",
    "My difficulty was in trying to create the environment for the project across multiple OS to make sure the project ran. Also, I found it difficult to scrape data from Statista's website as the graph on the site is loaded in \"<svg>\", which is difficult to scrape using just BeautifulSoup\n"
   ]
  },
  {
   "cell_type": "markdown",
   "metadata": {},
   "source": [
    "8. **What skills did you wish you had while you were doing the project?**\n",
    "\n",
    "I wish I had better skills to extract Twitter data, so that only the breached company's name could be recorded. \n"
   ]
  },
  {
   "cell_type": "markdown",
   "metadata": {},
   "source": [
    "9. **What would you do “next” to expand or augment the project?**\n",
    "\n",
    "I would like to add attributes that checks what industry does each Data Breach news belong to and see which industry is affected the most by the data breaches"
   ]
  }
 ],
 "metadata": {
  "kernelspec": {
   "display_name": "Python 3",
   "language": "python",
   "name": "python3"
  },
  "language_info": {
   "codemirror_mode": {
    "name": "ipython",
    "version": 3
   },
   "file_extension": ".py",
   "mimetype": "text/x-python",
   "name": "python",
   "nbconvert_exporter": "python",
   "pygments_lexer": "ipython3",
   "version": "3.7.4"
  }
 },
 "nbformat": 4,
 "nbformat_minor": 2
}
