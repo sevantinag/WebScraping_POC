{
 "cells": [
  {
   "cell_type": "markdown",
   "metadata": {
    "scrolled": true
   },
   "source": [
    "The project is set to scrape websites and retreive data from API to check for companies that were breached and the number of accounts that were exposed.\n",
    "\n",
    "To run the analysis, the first step is to import the main python file NAG_SEVANTI_hw5.py"
   ]
  },
  {
   "cell_type": "code",
   "execution_count": 1,
   "metadata": {},
   "outputs": [],
   "source": [
    "import os\n",
    "import sys\n",
    "sys.path.append(os.path.abspath(\"NAG_SEVANTI_hw5.py\"))\n",
    "\n",
    "from NAG_SEVANTI_hw5 import *"
   ]
  },
  {
   "cell_type": "markdown",
   "metadata": {},
   "source": [
    "To run the analysis, we call this function which scrapes data from haveibeenpwned.com, Statista.com and calls Twitter API. The scraped data is cleaned and stored in DB data_breach.db\n",
    "The DB consists of 3 tables:\n",
    "\n",
    "DataBreaches Table - For haveibeenpwned.com, stores exposed data numbers of 2019\n",
    "\n",
    "OldDataBreaches Table - For Statista.com, stores exposed data numbers from 2006-2018\n",
    "\n",
    "TwitterDataBreaches Table - For Twitter, stores exposed data numbers from tweets of this week and URLs attached to the tweet"
   ]
  },
  {
   "cell_type": "code",
   "execution_count": 2,
   "metadata": {},
   "outputs": [],
   "source": [
    "grab_data_by_scraping_and_api_requests()"
   ]
  },
  {
   "cell_type": "markdown",
   "metadata": {},
   "source": [
    "Once the cleaned data is stored in DB, the following function extracts data from DB and combines data from all the tables and returns 2 lists:\n",
    "\n",
    "1. List having total number of breaches for each year\n",
    "2. List of the years taken into account. \n",
    "\n",
    "The lists are returned by the function as a tuple of lists. \n",
    "To use the returned value in the output, the values are stored in another variable"
   ]
  },
  {
   "cell_type": "code",
   "execution_count": 3,
   "metadata": {},
   "outputs": [],
   "source": [
    "stored_data = grab_data_from_downloaded_raw_files()"
   ]
  },
  {
   "cell_type": "markdown",
   "metadata": {},
   "source": [
    "The analysis is made by viewing the output graph, which plots the exposed data count to the year. "
   ]
  },
  {
   "cell_type": "code",
   "execution_count": 4,
   "metadata": {},
   "outputs": [
    {
     "data": {
      "image/png": "[encoded data removed]",
      "text/plain": [
       "<Figure size 720x720 with 1 Axes>"
      ]
     },
     "metadata": {
      "needs_background": "light"
     },
     "output_type": "display_data"
    }
   ],
   "source": [
    "plot_graph(stored_data)"
   ]
  },
  {
   "cell_type": "markdown",
   "metadata": {},
   "source": [
    "As we can see from the graph that the exposed data numbers were fairly lower and kept increasing through the years. In 2019, the number spiked, which confirms that "
   ]
  },
  {
   "cell_type": "markdown",
   "metadata": {},
   "source": [
    "1.\t**The names of team member(s)**:\n",
    "   \n",
    "   Sevanti Nag\n",
    "    "
   ]
  },
  {
   "cell_type": "markdown",
   "metadata": {},
   "source": [
    "    \n",
    "2. **How to run your code (what command-line switches they are, what happens when you invoke the code, etc.)**\n",
    "\n",
    "This project requires the following packages:\n",
    "1. Download Chromedriver from:\n",
    "   - For Chrome Versions 78: “https://chromedriver.storage.googleapis.com/index.html?path=78.0.3904.105/“\n",
    "   - For Chrome Versions 79: \"https://chromedriver.storage.googleapis.com/index.html?path=79.0.3945.36/\"\n",
    "  and add the exe file as per the system's OS to the project folder (Replace if existing)\n",
    "2. Change the absolute path of the 'chromedriver' in 'statista_data_breach.py' LINE NO: 31\n",
    "3. Install requests\n",
    "4. Install BeautifulSoup\n",
    "5. Install Selenium\n",
    "6. Install Tweepy for Twitter API usage\n",
    "7. Install Matplotlib for plotting graph\n",
    "\n",
    "\n",
    "On Windows to successfully run nag_sevanti.ipynb file, on Anaconda Prompt navigate to Anaconda folder (\"C:/Users/usr_name/Anaconda\") and install the following:\n",
    "\n",
    "1. Install Selenium\n",
    "2. Install requests\n",
    "3. Install BeautifulSoup\n",
    "4. Install Tweepy for Twitter API usage\n",
    "5. Install Matplotlib for plotting graph\n",
    "\n",
    "To run this project, make sure the above packages are installed, and then simply clone the repo at https://github.com/sevantinag/inf510_project.git and execute this notebook\n"
   ]
  },
  {
   "cell_type": "markdown",
   "metadata": {},
   "source": [
    "3. **Any major “gotchas” to the code (i.e. things that don’t work, go slowly, could be improved, etc.)**\n",
    "\n",
    "The code takes a while to scrape data from Statista's website, as it uses Selenium to open the URL in a browser. The twitter searches could be improved, so that only the breached company name and it's corresponding exposed data could be recorded.\n"
   ]
  },
  {
   "cell_type": "markdown",
   "metadata": {},
   "source": [
    "4. **Anything else you feel is relevant to the grading of your project your project.**\n",
    "\n",
    "On running the analysis function on Jupyter Notebook, it takes a while to load as the scraping functions are being called"
   ]
  },
  {
   "cell_type": "markdown",
   "metadata": {},
   "source": [
    "5. **What did you set out to study?  (i.e. what was the point of your project?  This should be close to your Milestone 1 assignment, but if you switched gears or changed things, note it here.)**\n",
    "\n",
    "I initially had set out to study the data breaches across various industry and analyze if the cost of breaches correlated with the number of breaches. Unfortunately, my primary data source website'https://privacyrights.org/data-breaches' used to contain list of data breach segregated by industry. The list has been removed as the developers are making enhancements to the site.  Due to this, the goal had to be modfied. The modified goal was to observe the trend in the data breaches in the previous and current years. \n",
    "\n",
    "The aforementioned URL has been replaced by 'https://haveibeenpwned.com/PwnedWebsites' which lists all the company portals that were breached and their breach date and the number of data records that were exposed in the breach. As online data keeps growing exponentially by the years, and hackers growing smarter and finding ways to breach systems, I set out to analyze if the number of data breaches have also increased.\n"
   ]
  },
  {
   "cell_type": "markdown",
   "metadata": {},
   "source": [
    "6. **What did you Discover/what were your conclusions (i.e. what were your findings?  Were your original assumptions confirmed, etc.?)**\n",
    "\n",
    "I discovered that the number of breaches in 2019 was significantly higher as compared to 2018 and previous years. As online data keeps growing exponentially by the years, and hackers growing smarter and finding ways to breach systems, the breaches are also increasing because it becomes easier to fool consumers using various phishing/hacking techniques\n"
   ]
  },
  {
   "cell_type": "markdown",
   "metadata": {},
   "source": [
    "7. **What difficulties did you have in completing the project?**\n",
    "\n",
    "My difficulty was in trying to create the environment for the project across multiple OS to make sure the project ran. Also, I found it difficult to scrape data from Statista's website as the graph on the site is loaded in \"svg\", which is difficult to scrape using just BeautifulSoup\n"
   ]
  },
  {
   "cell_type": "markdown",
   "metadata": {},
   "source": [
    "8. **What skills did you wish you had while you were doing the project?**\n",
    "\n",
    "I wish I had better skills to extract Twitter data, so that only the breached company's name could be recorded. \n"
   ]
  },
  {
   "cell_type": "markdown",
   "metadata": {},
   "source": [
    "9. **What would you do “next” to expand or augment the project?**\n",
    "\n",
    "I would like to add attributes that checks what industry does each Data Breach news belong to and see which industry is affected the most by the data breaches"
   ]
  }
 ],
 "metadata": {
  "kernelspec": {
   "display_name": "Python 3",
   "language": "python",
   "name": "python3"
  },
  "language_info": {
   "codemirror_mode": {
    "name": "ipython",
    "version": 3
   },
   "file_extension": ".py",
   "mimetype": "text/x-python",
   "name": "python",
   "nbconvert_exporter": "python",
   "pygments_lexer": "ipython3",
   "version": "3.7.4"
  }
 },
 "nbformat": 4,
 "nbformat_minor": 2
}
